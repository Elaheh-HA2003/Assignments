{
 "cells": [
  {
   "cell_type": "markdown",
   "id": "50d6f0ad",
   "metadata": {},
   "source": [
    "# Elaheh Hossein Abadi - TA - HW1 "
   ]
  },
  {
   "cell_type": "markdown",
   "id": "987dd34b",
   "metadata": {},
   "source": [
    "### 1. write a function sum_of_list that takes a list of integers as input and returns the sum of all the integers in the list"
   ]
  },
  {
   "cell_type": "code",
   "execution_count": 1,
   "id": "948ced11",
   "metadata": {},
   "outputs": [
    {
     "name": "stdout",
     "output_type": "stream",
     "text": [
      "10\n"
     ]
    }
   ],
   "source": [
    "def sum_of_list(input_list):\n",
    "    return sum(input_list)\n",
    "input_list = [1,2,3,4]\n",
    "output = sum_of_list(input_list)\n",
    "print(output)"
   ]
  },
  {
   "cell_type": "markdown",
   "id": "e1bc7145",
   "metadata": {},
   "source": [
    "### 2.Create a function  chech key that accepts a dictionary and a key as input. the function should return True if the key exists in the dictionary and False otherwise."
   ]
  },
  {
   "cell_type": "code",
   "execution_count": 2,
   "id": "510f155e",
   "metadata": {},
   "outputs": [
    {
     "name": "stdout",
     "output_type": "stream",
     "text": [
      "True\n"
     ]
    }
   ],
   "source": [
    "def check_key(dict1, key):\n",
    "    return key in dict1\n",
    "dict1 = {'name' : 'Elaheh' , 'age' : 21 , 'phone' : 9151234689}\n",
    "key= 'age'\n",
    "result= check_key(dict1, key)\n",
    "print(result)"
   ]
  },
  {
   "cell_type": "markdown",
   "id": "6e7013bc",
   "metadata": {},
   "source": [
    "### 3. write a function reverse_string that takes a string as input and retuns the string reversed."
   ]
  },
  {
   "cell_type": "code",
   "execution_count": 3,
   "id": "43c1bf85",
   "metadata": {},
   "outputs": [
    {
     "name": "stdout",
     "output_type": "stream",
     "text": [
      "olleH\n"
     ]
    }
   ],
   "source": [
    "def reverse_string(input_string):\n",
    "    return input_string[::-1]\n",
    "input_string= \"Hello\"\n",
    "output_string= reverse_string(input_string)\n",
    "print(output_string)"
   ]
  }
 ],
 "metadata": {
  "kernelspec": {
   "display_name": "Python 3 (ipykernel)",
   "language": "python",
   "name": "python3"
  },
  "language_info": {
   "codemirror_mode": {
    "name": "ipython",
    "version": 3
   },
   "file_extension": ".py",
   "mimetype": "text/x-python",
   "name": "python",
   "nbconvert_exporter": "python",
   "pygments_lexer": "ipython3",
   "version": "3.11.5"
  }
 },
 "nbformat": 4,
 "nbformat_minor": 5
}
